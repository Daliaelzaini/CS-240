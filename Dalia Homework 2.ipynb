{
 "cells": [
  {
   "cell_type": "code",
   "execution_count": 1,
   "metadata": {
    "collapsed": true
   },
   "outputs": [],
   "source": [
    "import nsfg\n",
    "import thinkplot\n",
    "import thinkstats2"
   ]
  },
  {
   "cell_type": "code",
   "execution_count": 2,
   "metadata": {
    "collapsed": true
   },
   "outputs": [],
   "source": [
    "pres = nsfg.ReadFemResp()"
   ]
  },
  {
   "cell_type": "code",
   "execution_count": 3,
   "metadata": {
    "collapsed": false
   },
   "outputs": [
    {
     "data": {
      "text/plain": [
       "9.0       1\n",
       "11.0      2\n",
       "12.0      1\n",
       "13.0      3\n",
       "14.0     18\n",
       "15.0     50\n",
       "16.0    115\n",
       "17.0    173\n",
       "18.0    342\n",
       "19.0    328\n",
       "20.0    353\n",
       "21.0    364\n",
       "22.0    381\n",
       "23.0    359\n",
       "24.0    285\n",
       "25.0    261\n",
       "26.0    233\n",
       "27.0    177\n",
       "28.0    150\n",
       "29.0    129\n",
       "30.0     97\n",
       "31.0     72\n",
       "32.0     52\n",
       "33.0     49\n",
       "34.0     29\n",
       "35.0     35\n",
       "36.0     14\n",
       "37.0     14\n",
       "38.0     10\n",
       "39.0     10\n",
       "40.0      7\n",
       "41.0      6\n",
       "42.0      3\n",
       "43.0      3\n",
       "Name: fmar1age, dtype: int64"
      ]
     },
     "execution_count": 3,
     "metadata": {},
     "output_type": "execute_result"
    }
   ],
   "source": [
    "# Question (1): \n",
    "fmar1age = pres['fmar1age']\n",
    "his1 = thinkstats2.Hist(pres.fmar1age)\n",
    "hist1 = thinkstats2.Hist(his1)\n",
    "pres.fmar1age.value_counts().sort_index()"
   ]
  },
  {
   "cell_type": "code",
   "execution_count": 4,
   "metadata": {
    "collapsed": false
   },
   "outputs": [
    {
     "data": {
      "image/png": "[encoded data removed]",
      "text/plain": [
       "<matplotlib.figure.Figure at 0x1182db2d0>"
      ]
     },
     "metadata": {},
     "output_type": "display_data"
    }
   ],
   "source": [
    "thinkplot.Hist(hist1)\n",
    "thinkplot.Show(xlabel=\"Marraige Age\",ylabel = \"Frequency\")"
   ]
  },
  {
   "cell_type": "code",
   "execution_count": 7,
   "metadata": {
    "collapsed": false
   },
   "outputs": [
    {
     "data": {
      "text/plain": [
       "0    3517\n",
       "1    3436\n",
       "2     582\n",
       "3      90\n",
       "4      15\n",
       "5       3\n",
       "Name: fmarno, dtype: int64"
      ]
     },
     "execution_count": 7,
     "metadata": {},
     "output_type": "execute_result"
    }
   ],
   "source": [
    "#Question (2): \n",
    "fmarno = pres['fmarno']\n",
    "his2 = thinkstats2.Hist(fmarno)\n",
    "pres.fmarno.value_counts().sort_index()"
   ]
  },
  {
   "cell_type": "code",
   "execution_count": 8,
   "metadata": {
    "collapsed": false
   },
   "outputs": [
    {
     "data": {
      "image/png": "[encoded data removed]",
      "text/plain": [
       "<matplotlib.figure.Figure at 0x11907de50>"
      ]
     },
     "metadata": {},
     "output_type": "display_data"
    }
   ],
   "source": [
    "thinkplot.Hist(his2, color='yellow',width=0.5,label=\"The number of marriage\")\n",
    "thinkplot.Show(xlabel='The number of marriage', ylabel='frequencies')"
   ]
  },
  {
   "cell_type": "code",
   "execution_count": 9,
   "metadata": {
    "collapsed": false
   },
   "outputs": [
    {
     "data": {
      "text/plain": [
       "1      299\n",
       "2      301\n",
       "3      266\n",
       "4      421\n",
       "5      445\n",
       "6      559\n",
       "7      583\n",
       "8      606\n",
       "9      607\n",
       "10     468\n",
       "11     647\n",
       "12     658\n",
       "13     623\n",
       "14    1160\n",
       "Name: totincr, dtype: int64"
      ]
     },
     "execution_count": 9,
     "metadata": {},
     "output_type": "execute_result"
    }
   ],
   "source": [
    "#Question (3):\n",
    "totincr = pres['totincr']\n",
    "his3 = thinkstats2.Hist(totincr)\n",
    "pres.totincr.value_counts().sort_index()"
   ]
  },
  {
   "cell_type": "code",
   "execution_count": 10,
   "metadata": {
    "collapsed": false
   },
   "outputs": [
    {
     "data": {
      "image/png": "[encoded data removed]",
      "text/plain": [
       "<matplotlib.figure.Figure at 0x11909c310>"
      ]
     },
     "metadata": {},
     "output_type": "display_data"
    }
   ],
   "source": [
    "thinkplot.Hist(his3, color='blue',width=0.5,label=\"The total income\") \n",
    "thinkplot.Config(xlabel='Range', ylabel='frequency')\n",
    "thinkplot.Show()"
   ]
  },
  {
   "cell_type": "code",
   "execution_count": 13,
   "metadata": {
    "collapsed": false
   },
   "outputs": [
    {
     "data": {
      "image/png": "[encoded data removed]",
      "text/plain": [
       "<matplotlib.figure.Figure at 0x1190f0f90>"
      ]
     },
     "metadata": {},
     "output_type": "display_data"
    }
   ],
   "source": [
    "#Question (4):\n",
    "neverMarried = pres[pres.fmarno == 0]\n",
    "married = pres[pres.fmarno >= 1]\n",
    "his4 = thinkstats2.Hist(neverMarried.totincr, label=\"Who had never married\")\n",
    "his5 = thinkstats2.Hist(married.totincr, label=\"The married\")\n",
    "thinkplot.Hist(his4, align='right',width=0.5,color='orange')\n",
    "thinkplot.Hist(his5, align='left',width=0.5,color='purple')\n",
    "thinkplot.Show(xlabel='Period of time', ylabel='Amount',)"
   ]
  },
  {
   "cell_type": "code",
   "execution_count": 14,
   "metadata": {
    "collapsed": false
   },
   "outputs": [
    {
     "name": "stdout",
     "output_type": "stream",
     "text": [
      "The miminum value of the income of non married people is 1.00\n",
      "The miminum value of total income of never married people is 1.00\n",
      "The maximum value of total income ofnevermarried people is 14.00\n",
      "The maximum value of total income of married respondant is 14.00\n",
      "The standart deviation of never married respondents of the total income is 3.98\n",
      "The standart deviation of married respondents of the total income is 3.71\n",
      "The varience of the never married respondents of the total income is 15.85\n",
      "The varience of married respondents of total income is 13.80\n",
      "The mean of never married respondents of total income is 8.02\n",
      "The mean of total income of married respondant is 9.50\n"
     ]
    }
   ],
   "source": [
    "#Question (5):\n",
    "print 'The miminum value of the income of non married people is %.2f' %neverMarried.totincr.min()\n",
    "print 'The miminum value of total income of never married people is %.2f' %married.totincr.min()\n",
    "print 'The maximum value of total income ofnevermarried people is %.2f' %neverMarried.totincr.max()\n",
    "print 'The maximum value of total income of married respondant is %.2f' %married.totincr.max()\n",
    "print 'The standart deviation of never married respondents of the total income is %.2f' %neverMarried.totincr.std()\n",
    "print 'The standart deviation of married respondents of the total income is %.2f' %married.totincr.std()\n",
    "print 'The varience of the never married respondents of the total income is %.2f' %neverMarried.totincr.var()\n",
    "print 'The varience of married respondents of total income is %.2f' %married.totincr.var()\n",
    "print 'The mean of never married respondents of total income is %.2f' %neverMarried.totincr.mean()\n",
    "print 'The mean of total income of married respondant is %.2f' %married.totincr.mean()"
   ]
  },
  {
   "cell_type": "code",
   "execution_count": null,
   "metadata": {
    "collapsed": true
   },
   "outputs": [],
   "source": []
  }
 ],
 "metadata": {
  "kernelspec": {
   "display_name": "Python 2",
   "language": "python",
   "name": "python2"
  },
  "language_info": {
   "codemirror_mode": {
    "name": "ipython",
    "version": 2
   },
   "file_extension": ".py",
   "mimetype": "text/x-python",
   "name": "python",
   "nbconvert_exporter": "python",
   "pygments_lexer": "ipython2",
   "version": "2.7.13"
  }
 },
 "nbformat": 4,
 "nbformat_minor": 2
}
